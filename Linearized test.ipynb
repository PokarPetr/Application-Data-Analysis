{
 "cells": [
  {
   "cell_type": "markdown",
   "id": "410c4dae-02f6-48cd-a71b-24a3001b8093",
   "metadata": {},
   "source": [
    "Analysis of tests over relational metrics of the form 𝑥/𝑦 .\n",
    "\n",
    "The idea of the method is as follows:\n",
    "Instead of pushing “user” CTRs into the test, you can construct another metric and analyze it, but it is guaranteed that if the test on this other one \"sees\" changes, then there are changes in the original metric.\n",
    "However, the method itself is very simple.\n",
    "1. Calculate the total CTR in the control group CTRcontrol=sum(likes)/sum(views)\n",
    "2. Calculate in both groups metric 𝑙𝑖𝑛𝑒𝑎𝑟𝑖𝑧𝑒𝑑_𝑙𝑖𝑘𝑒𝑠 = likes - CTRcontrol*views for each user\n",
    "3. Compare the differences in the groups by the t-test according to the metric 𝑙𝑖𝑛𝑒𝑎𝑟𝑖𝑧𝑒𝑑_𝑙𝑖𝑘𝑒𝑠\n",
    "The method is simple, it is guaranteed that with a decent sample size, you can increase the sensitivity of your metric for free (or at least not make it worse)."
   ]
  },
  {
   "cell_type": "markdown",
   "id": "ba4fabc1-5241-4676-8e9e-1fbc7d7a1d41",
   "metadata": {},
   "source": [
    "Aнализ тестов над метриками-отношениями вида  𝑥/𝑦 .\n",
    "\n",
    "Идея метода заключается в следующем:\n",
    "Вместо того, чтобы заталкивать в тест «поюзерные» CTR, можно сконструировать другую метрику и анализировать ее, но при этом гарантируется , что если тест на этой другой увидит изменения, значит изменения есть и в метрике исходной \n",
    "При этом метод сам по себе очень прост. Что это за метрика такая?  \n",
    "\n",
    "1. Считаем общий CTR в контрольной группе  𝐶𝑇𝑅𝑐𝑜𝑛𝑡𝑟𝑜𝑙=𝑠𝑢𝑚(𝑙𝑖𝑘𝑒𝑠)/𝑠𝑢𝑚(𝑣𝑖𝑒𝑤𝑠) \n",
    "2. Посчитаем в обеих группах поюзерную метрику  𝑙𝑖𝑛𝑒𝑎𝑟𝑖𝑧𝑒𝑑_𝑙𝑖𝑘𝑒𝑠=𝑙𝑖𝑘𝑒𝑠−𝐶𝑇𝑅𝑐𝑜𝑛𝑡𝑟𝑜𝑙∗𝑣𝑖𝑒𝑤𝑠 \n",
    "3. После чего сравним  t-тестом отличия в группах по метрике 𝑙𝑖𝑛𝑒𝑎𝑟𝑖𝑧𝑒𝑑_𝑙𝑖𝑘𝑒𝑠  \n",
    "\n",
    "Метод простой, гарантируется, что при приличном размере выборки  можно бесплатно увеличить чувствительность вашей метрики (или, по крайней мере, не сделать хуже). "
   ]
  },
  {
   "cell_type": "markdown",
   "id": "eb174618-c868-4007-9b0b-284baaaa3923",
   "metadata": {},
   "source": [
    "Task\n",
    "1. Analyze the test between groups 0 and 3 by the metric of linearized likes. Is the difference visible? Has 𝑝−𝑣𝑎𝑙𝑢𝑒 gotten smaller?\n",
    "2. Analyze the test between groups 1 and 2 by the metric of linearized likes. Is the difference visible? Has 𝑝−𝑣𝑎𝑙𝑢𝑒 gotten smaller?\n",
    "\n",
    "\n",
    "Задача\n",
    "1. Проанализировать тест между группами 0 и 3 по метрике линеаризованных лайков. Видно ли отличие? Стало ли 𝑝−𝑣𝑎𝑙𝑢𝑒 меньше?\n",
    "2. Проанализировать тест между группами 1 и 2 по метрике линеаризованных лайков. Видно ли отличие? Стало ли 𝑝−𝑣𝑎𝑙𝑢𝑒 меньше?"
   ]
  },
  {
   "cell_type": "code",
   "execution_count": 1,
   "id": "f222bbb1-cf97-44fa-ace3-0bb5af25c1ec",
   "metadata": {},
   "outputs": [],
   "source": [
    "# Download libraries.  Запрос библиотек\n",
    "\n",
    "import pandahouse\n",
    "import pandas as pd\n",
    "import seaborn as sns\n",
    "import numpy as np\n",
    "\n",
    "from scipy import stats"
   ]
  },
  {
   "cell_type": "code",
   "execution_count": 2,
   "id": "3ded40f5-a0f4-4c52-89d7-efdef37cffeb",
   "metadata": {},
   "outputs": [],
   "source": [
    "# Create a connection. Создание соединения\n",
    "\n",
    "connection = {\n",
    "    'host': 'https://clickhouse.lab.karpov.courses',\n",
    "    'password': 'dpo_python_2020',\n",
    "    'user': 'student',\n",
    "    'database': 'simulator'\n",
    "}\n"
   ]
  },
  {
   "cell_type": "code",
   "execution_count": 4,
   "id": "18912c2a-a002-4baf-a368-71fa77c6c22d",
   "metadata": {},
   "outputs": [],
   "source": [
    "# Data request (users, their views and likes from groups 0 and 3\n",
    "# during the time interval from 01/01/23 to 01/07/23 inclusive).\n",
    "# Запрос данных (пользователи, их просмотры и лайки из групп 0 и 3\n",
    "#  во временной интервал с 01.01.23 по 07.01.23 включительно)\n",
    "\n",
    "q = \"\"\"\n",
    "SELECT exp_group, \n",
    "    user_id,\n",
    "    sum(action = 'like') as likes,\n",
    "    sum(action = 'view') as views,\n",
    "    likes/views as ctr\n",
    "FROM simulator_20230120.feed_actions \n",
    "WHERE toDate(time) between '2023-01-01' and '2023-01-07'\n",
    "    and exp_group in (0,3)\n",
    "GROUP BY exp_group, user_id\n",
    "\"\"\"\n",
    "\n",
    "df_03 = pandahouse.read_clickhouse(q, connection=connection)"
   ]
  },
  {
   "cell_type": "code",
   "execution_count": 5,
   "id": "cd465a6e-90e6-468c-bdb2-9bd7d06e2d03",
   "metadata": {},
   "outputs": [
    {
     "name": "stdout",
     "output_type": "stream",
     "text": [
      " p-value = 1.055849414662529e-43\n"
     ]
    }
   ],
   "source": [
    "#T-test on groups 0(control) and 3(test)\n",
    "\n",
    "t_test = stats.ttest_ind(df_03[df_03.exp_group == 0].ctr,\n",
    "                df_03[df_03.exp_group == 3].ctr,\n",
    "                equal_var=False)\n",
    "print(f' p-value = {t_test.pvalue}')"
   ]
  },
  {
   "cell_type": "code",
   "execution_count": 6,
   "id": "b714ab68-082c-4e2d-b125-714166c5c0f2",
   "metadata": {},
   "outputs": [],
   "source": [
    "#Calculate global CTR\n",
    "\n",
    "global_CTR_03 = sum(df_03[df_03.exp_group == 0].likes)/sum(df_03[df_03.exp_group == 0].views)"
   ]
  },
  {
   "cell_type": "code",
   "execution_count": 7,
   "id": "4f3c2b9a-cff6-4f8c-b31f-bd9d78890916",
   "metadata": {},
   "outputs": [],
   "source": [
    "#Calculate linearized 'likes'\n",
    "\n",
    "df_03['linearized_likes'] = df_03.apply(\n",
    "    lambda x: x['likes'] - x['views']*global_CTR_03, axis=1)"
   ]
  },
  {
   "cell_type": "code",
   "execution_count": 8,
   "id": "2e645f29-b918-4f8f-bb7f-f57fd29660bc",
   "metadata": {},
   "outputs": [
    {
     "data": {
      "text/html": [
       "<div>\n",
       "<style scoped>\n",
       "    .dataframe tbody tr th:only-of-type {\n",
       "        vertical-align: middle;\n",
       "    }\n",
       "\n",
       "    .dataframe tbody tr th {\n",
       "        vertical-align: top;\n",
       "    }\n",
       "\n",
       "    .dataframe thead th {\n",
       "        text-align: right;\n",
       "    }\n",
       "</style>\n",
       "<table border=\"1\" class=\"dataframe\">\n",
       "  <thead>\n",
       "    <tr style=\"text-align: right;\">\n",
       "      <th></th>\n",
       "      <th>exp_group</th>\n",
       "      <th>user_id</th>\n",
       "      <th>likes</th>\n",
       "      <th>views</th>\n",
       "      <th>ctr</th>\n",
       "      <th>linearized_likes</th>\n",
       "    </tr>\n",
       "  </thead>\n",
       "  <tbody>\n",
       "    <tr>\n",
       "      <th>0</th>\n",
       "      <td>3</td>\n",
       "      <td>115383</td>\n",
       "      <td>9</td>\n",
       "      <td>30</td>\n",
       "      <td>0.300000</td>\n",
       "      <td>2.752916</td>\n",
       "    </tr>\n",
       "    <tr>\n",
       "      <th>1</th>\n",
       "      <td>3</td>\n",
       "      <td>123580</td>\n",
       "      <td>13</td>\n",
       "      <td>48</td>\n",
       "      <td>0.270833</td>\n",
       "      <td>3.004666</td>\n",
       "    </tr>\n",
       "    <tr>\n",
       "      <th>2</th>\n",
       "      <td>0</td>\n",
       "      <td>4944</td>\n",
       "      <td>8</td>\n",
       "      <td>41</td>\n",
       "      <td>0.195122</td>\n",
       "      <td>-0.537681</td>\n",
       "    </tr>\n",
       "    <tr>\n",
       "      <th>3</th>\n",
       "      <td>0</td>\n",
       "      <td>4504</td>\n",
       "      <td>5</td>\n",
       "      <td>15</td>\n",
       "      <td>0.333333</td>\n",
       "      <td>1.876458</td>\n",
       "    </tr>\n",
       "    <tr>\n",
       "      <th>4</th>\n",
       "      <td>0</td>\n",
       "      <td>121508</td>\n",
       "      <td>18</td>\n",
       "      <td>88</td>\n",
       "      <td>0.204545</td>\n",
       "      <td>-0.324779</td>\n",
       "    </tr>\n",
       "    <tr>\n",
       "      <th>...</th>\n",
       "      <td>...</td>\n",
       "      <td>...</td>\n",
       "      <td>...</td>\n",
       "      <td>...</td>\n",
       "      <td>...</td>\n",
       "      <td>...</td>\n",
       "    </tr>\n",
       "    <tr>\n",
       "      <th>20043</th>\n",
       "      <td>3</td>\n",
       "      <td>13781</td>\n",
       "      <td>10</td>\n",
       "      <td>27</td>\n",
       "      <td>0.370370</td>\n",
       "      <td>4.377625</td>\n",
       "    </tr>\n",
       "    <tr>\n",
       "      <th>20044</th>\n",
       "      <td>3</td>\n",
       "      <td>130651</td>\n",
       "      <td>18</td>\n",
       "      <td>98</td>\n",
       "      <td>0.183673</td>\n",
       "      <td>-2.407140</td>\n",
       "    </tr>\n",
       "    <tr>\n",
       "      <th>20045</th>\n",
       "      <td>0</td>\n",
       "      <td>3681</td>\n",
       "      <td>7</td>\n",
       "      <td>55</td>\n",
       "      <td>0.127273</td>\n",
       "      <td>-4.452987</td>\n",
       "    </tr>\n",
       "    <tr>\n",
       "      <th>20046</th>\n",
       "      <td>3</td>\n",
       "      <td>122008</td>\n",
       "      <td>5</td>\n",
       "      <td>41</td>\n",
       "      <td>0.121951</td>\n",
       "      <td>-3.537681</td>\n",
       "    </tr>\n",
       "    <tr>\n",
       "      <th>20047</th>\n",
       "      <td>3</td>\n",
       "      <td>122190</td>\n",
       "      <td>19</td>\n",
       "      <td>65</td>\n",
       "      <td>0.292308</td>\n",
       "      <td>5.464652</td>\n",
       "    </tr>\n",
       "  </tbody>\n",
       "</table>\n",
       "<p>20048 rows × 6 columns</p>\n",
       "</div>"
      ],
      "text/plain": [
       "       exp_group  user_id  likes  views       ctr  linearized_likes\n",
       "0              3   115383      9     30  0.300000          2.752916\n",
       "1              3   123580     13     48  0.270833          3.004666\n",
       "2              0     4944      8     41  0.195122         -0.537681\n",
       "3              0     4504      5     15  0.333333          1.876458\n",
       "4              0   121508     18     88  0.204545         -0.324779\n",
       "...          ...      ...    ...    ...       ...               ...\n",
       "20043          3    13781     10     27  0.370370          4.377625\n",
       "20044          3   130651     18     98  0.183673         -2.407140\n",
       "20045          0     3681      7     55  0.127273         -4.452987\n",
       "20046          3   122008      5     41  0.121951         -3.537681\n",
       "20047          3   122190     19     65  0.292308          5.464652\n",
       "\n",
       "[20048 rows x 6 columns]"
      ]
     },
     "execution_count": 8,
     "metadata": {},
     "output_type": "execute_result"
    }
   ],
   "source": [
    "df_03"
   ]
  },
  {
   "cell_type": "code",
   "execution_count": 9,
   "id": "56eba0bd-a7d7-41a0-aaae-7b7c09a8d0c9",
   "metadata": {},
   "outputs": [
    {
     "name": "stdout",
     "output_type": "stream",
     "text": [
      " p-value = 5.491424947968532e-52\n"
     ]
    }
   ],
   "source": [
    "#T-test on linearized data\n",
    "\n",
    "t_test_03 = stats.ttest_ind(df_03[df_03.exp_group == 0].linearized_likes,\n",
    "                df_03[df_03.exp_group == 3].linearized_likes,\n",
    "                equal_var=False)\n",
    "print(f' p-value = {t_test_03.pvalue}')"
   ]
  },
  {
   "cell_type": "markdown",
   "id": "0df08324-298c-4ecd-b93d-27cb50125f57",
   "metadata": {},
   "source": [
    "Both t-tests showed a significant difference.\n",
    "p-value in linearized test is less.\n",
    "\n",
    "Оба т-теста показали значимое отличие.          \n",
    "p-value в линеарезированном тесте меньше"
   ]
  },
  {
   "cell_type": "markdown",
   "id": "2500f87b-fb2b-4732-9831-8208bdaba2aa",
   "metadata": {},
   "source": [
    "--------------"
   ]
  },
  {
   "cell_type": "code",
   "execution_count": 10,
   "id": "3f777e51-1bc6-4403-a799-68cc9934aa16",
   "metadata": {},
   "outputs": [],
   "source": [
    "# Data request (users, their views and likes from groups 1 and 2\n",
    "# during the time interval from 01/01/23 to 01/07/23 inclusive).\n",
    "# Запрос данных (пользователи, их просмотры и лайки из групп 1 и 2\n",
    "#  во временной интервал с 01.01.23 по 07.01.23 включительно)\n",
    "\n",
    "q = \"\"\"\n",
    "SELECT exp_group, \n",
    "    user_id,\n",
    "    sum(action = 'like') as likes,\n",
    "    sum(action = 'view') as views,\n",
    "    likes/views as ctr\n",
    "FROM simulator_20230120.feed_actions \n",
    "WHERE toDate(time) between '2023-01-01' and '2023-01-07'\n",
    "    and exp_group in (1,2)\n",
    "GROUP BY exp_group, user_id\n",
    "\"\"\"\n",
    "\n",
    "df_12 = pandahouse.read_clickhouse(q, connection=connection)"
   ]
  },
  {
   "cell_type": "code",
   "execution_count": 11,
   "id": "04414f82-581f-4c4c-a1d4-b6c2bf84c433",
   "metadata": {},
   "outputs": [
    {
     "name": "stdout",
     "output_type": "stream",
     "text": [
      " p-value = 0.4780623130874935\n"
     ]
    }
   ],
   "source": [
    "#T-test on groups 1(control) and 2(test)\n",
    "\n",
    "t_test = stats.ttest_ind(df_12[df_12.exp_group == 1].ctr,\n",
    "                df_12[df_12.exp_group == 2].ctr,\n",
    "                equal_var=False)\n",
    "print(f' p-value = {t_test.pvalue}')"
   ]
  },
  {
   "cell_type": "code",
   "execution_count": 12,
   "id": "92d913d9-2a96-410f-a617-9af5cba42b13",
   "metadata": {},
   "outputs": [],
   "source": [
    "#Calculate global CTR\n",
    "global_CTR_12 = sum(df_12[df_12.exp_group == 1].likes)/sum(df_12[df_12.exp_group == 1].views)"
   ]
  },
  {
   "cell_type": "code",
   "execution_count": 13,
   "id": "234f2e3a-4c6e-41a0-a9d1-93b61a61a165",
   "metadata": {},
   "outputs": [],
   "source": [
    "#Calculate linearized 'likes'\n",
    "df_12['linearized_likes'] = df_12.apply(\n",
    "    lambda x: x['likes'] - x['views']*global_CTR_12, axis=1)"
   ]
  },
  {
   "cell_type": "code",
   "execution_count": 14,
   "id": "9a21079f-50ee-47f2-abe0-285ff11047aa",
   "metadata": {},
   "outputs": [
    {
     "name": "stdout",
     "output_type": "stream",
     "text": [
      " p-value = 9.439432187037712e-10\n"
     ]
    }
   ],
   "source": [
    "t_test_12 = stats.ttest_ind(df_12[df_12.exp_group == 1].linearized_likes,\n",
    "                df_12[df_12.exp_group == 2].linearized_likes,\n",
    "                equal_var=False)\n",
    "print(f' p-value = {t_test_12.pvalue}')"
   ]
  },
  {
   "cell_type": "markdown",
   "id": "f8262caa-9c2c-42f4-a2ce-fec6ce82c7b9",
   "metadata": {},
   "source": [
    "T-tests on custom CTR and linearized CTR showed different results. \n",
    "\n",
    "Т-тесты на пользовательских CTR и линеаризованных CTR показали разные результаты\n"
   ]
  }
 ],
 "metadata": {
  "kernelspec": {
   "display_name": "Python 3 (ipykernel)",
   "language": "python",
   "name": "python3"
  },
  "language_info": {
   "codemirror_mode": {
    "name": "ipython",
    "version": 3
   },
   "file_extension": ".py",
   "mimetype": "text/x-python",
   "name": "python",
   "nbconvert_exporter": "python",
   "pygments_lexer": "ipython3",
   "version": "3.8.10"
  }
 },
 "nbformat": 4,
 "nbformat_minor": 5
}
