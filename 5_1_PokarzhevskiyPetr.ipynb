{
 "cells": [
  {
   "cell_type": "markdown",
   "id": "99f7f7a3-bbd8-412a-8ff5-32e0ee2901f8",
   "metadata": {},
   "source": [
    "Eсть данные АА-теста с '2022-12-25' по '2022-12-31'. \n",
    "Hужно сделать симуляцию, как будто были проведены 10000 АА-тестов. \n",
    "На каждой итерации нужно сформировать подвыборки без повторения в 500 юзеров из 2 и 3 экспериментальной группы. \n",
    "Провести сравнение этих подвыборок t-testом\n",
    "1. Построить гистограмму распределения получившихся 10000 p-values.\n",
    "\n",
    "2. Посчитать, какой процент p-values оказался меньше либо равен 0.05\n",
    "\n",
    "3. Написать вывод по проведенному АА-тесту, корректно ли работает система сплитования.\n"
   ]
  },
  {
   "cell_type": "code",
   "execution_count": 9,
   "id": "9e9f1d94-a1a0-43ab-8020-eb05bbb3cddb",
   "metadata": {},
   "outputs": [],
   "source": [
    "# Запрос библиотек\n",
    "import pandahouse\n",
    "import pandas as pd\n",
    "import seaborn as sns\n",
    "import numpy as np\n",
    "\n",
    "from scipy import stats"
   ]
  },
  {
   "cell_type": "code",
   "execution_count": 2,
   "id": "6d78f76d-37bf-4c97-b5f6-2f2825368519",
   "metadata": {},
   "outputs": [],
   "source": [
    "# Создание соединения\n",
    "\n",
    "connection = {\n",
    "    'host': 'https://clickhouse.lab.karpov.courses',\n",
    "    'password': 'dpo_python_2020',\n",
    "    'user': 'student',\n",
    "    'database': 'simulator'\n",
    "}\n"
   ]
  },
  {
   "cell_type": "code",
   "execution_count": 3,
   "id": "490a16de-9dc9-4912-89b3-b32753677dff",
   "metadata": {},
   "outputs": [],
   "source": [
    "# Запрос данных (пользователи, их просмотры и лайки из групп 2 и 3\n",
    "#  во временной интервал с 25.12.22 по 31.12.22)\n",
    "\n",
    "q = \"\"\"\n",
    "SELECT  \n",
    "    user_id,\n",
    "    sum(action = 'like') as likes,\n",
    "    sum(action = 'view') as views,\n",
    "    likes/views as ctr,\n",
    "    exp_group\n",
    "    \n",
    "FROM simulator_20230120.feed_actions\n",
    "\n",
    "WHERE toDate(time) >= '2022-12-25' and toDate(time) <= '2022-12-31' \n",
    "    and exp_group in (2,3)\n",
    "    \n",
    "GROUP BY exp_group, user_id\n",
    "\"\"\"\n",
    "\n",
    "df = pandahouse.read_clickhouse(q, connection=connection)"
   ]
  },
  {
   "cell_type": "code",
   "execution_count": null,
   "id": "dbec0c01-8aca-4a18-9156-cc8741d02ae3",
   "metadata": {},
   "outputs": [],
   "source": [
    "# Смотрим количество пользователей в группах. Нам нужно примерно одинаковое\n",
    "\n",
    "df.groupby('exp_group').count()"
   ]
  },
  {
   "cell_type": "markdown",
   "id": "4af30541-d16b-4af5-97ca-d1c74a8cfd6f",
   "metadata": {},
   "source": [
    "Количество пользователей в группах (8480 и 8469) достаточно близко "
   ]
  },
  {
   "cell_type": "code",
   "execution_count": 5,
   "id": "8316b3b6-3faf-45c6-bc64-aaa2dfaef81d",
   "metadata": {},
   "outputs": [
    {
     "data": {
      "text/plain": [
       "<AxesSubplot:xlabel='ctr', ylabel='Count'>"
      ]
     },
     "execution_count": 5,
     "metadata": {},
     "output_type": "execute_result"
    },
    {
     "data": {
      "image/png": "[encoded data removed]",
      "text/plain": [
       "<Figure size 864x576 with 1 Axes>"
      ]
     },
     "metadata": {},
     "output_type": "display_data"
    }
   ],
   "source": [
    "# Визуальный просмотр групп в Seaborn\n",
    "\n",
    "\n",
    "sns.set(rc={'figure.figsize':(12,8)})\n",
    "\n",
    "sns.histplot(data = df, \n",
    "              x='ctr', \n",
    "              hue='exp_group', \n",
    "              palette = 'bright',\n",
    "              alpha=0.5,\n",
    "              kde=False)"
   ]
  },
  {
   "cell_type": "markdown",
   "id": "a92ef19e-7ce5-483a-acb9-ef8c6f3e102d",
   "metadata": {},
   "source": [
    "На вид CTR в группах распределён одинаково."
   ]
  },
  {
   "cell_type": "code",
   "execution_count": null,
   "id": "1b4fb0ee-a1e5-4c10-99c8-86bb8b840d4f",
   "metadata": {},
   "outputs": [],
   "source": [
    "# T-test для оценки различий в двух группах\n",
    "stats.ttest_ind(df[df.exp_group == 2].ctr,\n",
    "                df[df.exp_group == 3].ctr,\n",
    "                equal_var=False)"
   ]
  },
  {
   "cell_type": "markdown",
   "id": "4713f1c4-4f2a-4287-9a11-96221f5bf92d",
   "metadata": {},
   "source": [
    "Ttest_indResult(statistic=-0.7393597924958364, pvalue=0.45969873156476293)\n",
    "\n",
    "Значение p-value много больше порога в 0,05.\n",
    "Можем достаточно уверенно принять нулевую гипотезу о том, что значительного различия в двух группах по CTR нет.\n",
    "\n",
    "\n"
   ]
  },
  {
   "cell_type": "code",
   "execution_count": 11,
   "id": "f8e624fc-0447-4bfb-814d-09e2d05a58ee",
   "metadata": {},
   "outputs": [],
   "source": [
    "''' Подготовка к симуляции 10000 АА-тестов. \n",
    "На каждой итерации будем формировать подвыборки без повторения в 500 юзеров из 2 и 3 экспериментальной группы. \n",
    "'''\n",
    "\n",
    "num_AA = 10000                    # Количество АА тестов\n",
    "sample_number = 500               # Количество пользователей в каждой выборке\n",
    "df_2 = df[df.exp_group == 2].ctr  # Колонка с CTR во всей группе 2\n",
    "df_3 = df[df.exp_group == 3].ctr  # Колонка с CTR во всей группе 3\n",
    "p_value_list = np.zeros(num_AA)   # Список под значения p-values, изначально заполненный нулями\n"
   ]
  },
  {
   "cell_type": "code",
   "execution_count": 15,
   "id": "57ce1019-30f9-4f0e-bc27-58c69b51cbba",
   "metadata": {},
   "outputs": [],
   "source": [
    "# List Comprhention для записи всех значений p_value в 10000 экспериментах, в заранее подготовленный список\n",
    "\n",
    "p_value_list = [stats.ttest_ind(df_2.sample(sample_number),df_3.sample(sample_number),equal_var=False).pvalue \\\n",
    "                for _ in range(num_AA)]\n"
   ]
  },
  {
   "cell_type": "code",
   "execution_count": 16,
   "id": "720dca74-795a-4a2e-87db-0906f41b0030",
   "metadata": {},
   "outputs": [
    {
     "name": "stdout",
     "output_type": "stream",
     "text": [
      " Процент p-value, меньших чем 0.05, равен 4.99\n"
     ]
    }
   ],
   "source": [
    "# Выбор значений p-value, которые меньше выбранного порога в 5% и вычисление доли этих значений к общему числу тестов.\n",
    "\n",
    "p_value_less_005 = [x for x in p_value_list if x <= 0.05]   # Формируем список из значений меньше 0,05\n",
    "\n",
    "ratio_p_value_less005 = len(p_value_less_005) / num_AA      # Вычисляем долю значений p-value, которые меньше 0,05\n",
    "\n",
    "print(f' Процент p-value, меньших чем 0.05, равен {ratio_p_value_less005*100}')"
   ]
  },
  {
   "cell_type": "code",
   "execution_count": 17,
   "id": "0f955c66-1eca-4aa1-b953-603fb7ae0425",
   "metadata": {},
   "outputs": [],
   "source": [
    "# Подготовка для построении гистограммы распределения значений p-value\n",
    "\n",
    "\n",
    "df_p_value = pd.DataFrame(p_value_list,columns={'p_value'}) # Формируем pandas DataFrame из списка p_value_list\n"
   ]
  },
  {
   "cell_type": "code",
   "execution_count": 34,
   "id": "948aeab3-8768-4b74-8a03-1eafa2479475",
   "metadata": {},
   "outputs": [
    {
     "data": {
      "text/plain": [
       "<AxesSubplot:xlabel='p_value', ylabel='Count'>"
      ]
     },
     "execution_count": 34,
     "metadata": {},
     "output_type": "execute_result"
    },
    {
     "data": {
      "image/png": "[encoded data removed]",
      "text/plain": [
       "<Figure size 1080x360 with 1 Axes>"
      ]
     },
     "metadata": {},
     "output_type": "display_data"
    }
   ],
   "source": [
    "# Строим гистограмму в Seaborn\n",
    "\n",
    "sns.set(rc={'figure.figsize':(15,5)})\n",
    "sns.histplot(x = df_p_value.p_value, bins = 20) # Берём bins = 20, чтобы видеть количество p-value меньше 0,05"
   ]
  },
  {
   "cell_type": "markdown",
   "id": "f325b7da-3f12-4a68-acc5-d8e45fa9bb99",
   "metadata": {},
   "source": [
    "Распределение значений p-value похоже на равномерное"
   ]
  },
  {
   "cell_type": "markdown",
   "id": "c1033151-e444-452b-b516-8e4a0f84202c",
   "metadata": {},
   "source": [
    "Количество значений p-value меньших 0.05 не превышает 5 %"
   ]
  },
  {
   "cell_type": "markdown",
   "id": "097bc793-3420-40ff-ad74-4cb09b52e6e0",
   "metadata": {},
   "source": [
    "Это позволяет сделать вывод - сплитование работает корректно и подходит для проведения АВ тестов  "
   ]
  }
 ],
 "metadata": {
  "kernelspec": {
   "display_name": "Python 3 (ipykernel)",
   "language": "python",
   "name": "python3"
  },
  "language_info": {
   "codemirror_mode": {
    "name": "ipython",
    "version": 3
   },
   "file_extension": ".py",
   "mimetype": "text/x-python",
   "name": "python",
   "nbconvert_exporter": "python",
   "pygments_lexer": "ipython3",
   "version": "3.8.10"
  }
 },
 "nbformat": 4,
 "nbformat_minor": 5
}
