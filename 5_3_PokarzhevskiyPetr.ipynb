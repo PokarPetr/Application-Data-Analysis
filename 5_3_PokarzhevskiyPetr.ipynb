{
 "cells": [
  {
   "cell_type": "markdown",
   "id": "980755e2-e36a-4740-a395-57e561ffd2ae",
   "metadata": {},
   "source": [
    "Задача\n",
    "\n",
    "1. Проанализировать тест между группами 0 и 3 по метрике линеаризованных лайков. Видно ли отличие? Стало ли 𝑝−𝑣𝑎𝑙𝑢𝑒 меньше?\n",
    "2. Проанализировать тест между группами 1 и 2 по метрике линеаризованных лайков. Видно ли отличие? Стало ли 𝑝−𝑣𝑎𝑙𝑢𝑒 меньше?"
   ]
  },
  {
   "cell_type": "code",
   "execution_count": 11,
   "id": "f222bbb1-cf97-44fa-ace3-0bb5af25c1ec",
   "metadata": {},
   "outputs": [],
   "source": [
    "# Запрос библиотек.\n",
    "\n",
    "import pandahouse\n",
    "import pandas as pd\n",
    "import seaborn as sns\n",
    "import numpy as np\n",
    "\n",
    "from scipy import stats"
   ]
  },
  {
   "cell_type": "code",
   "execution_count": 12,
   "id": "3ded40f5-a0f4-4c52-89d7-efdef37cffeb",
   "metadata": {},
   "outputs": [],
   "source": [
    "# Создание соединения\n",
    "\n",
    "connection = {\n",
    "    'host': 'https://clickhouse.lab.karpov.courses',\n",
    "    'password': 'dpo_python_2020',\n",
    "    'user': 'student',\n",
    "    'database': 'simulator'\n",
    "}\n"
   ]
  },
  {
   "cell_type": "code",
   "execution_count": 4,
   "id": "18912c2a-a002-4baf-a368-71fa77c6c22d",
   "metadata": {},
   "outputs": [],
   "source": [
    "# Запрос данных (пользователи, их просмотры и лайки из групп 0 и 3\n",
    "#  во временной интервал с 01.01.23 по 07.01.23 включительно)\n",
    "\n",
    "q = \"\"\"\n",
    "SELECT exp_group, \n",
    "    user_id,\n",
    "    sum(action = 'like') as likes,\n",
    "    sum(action = 'view') as views,\n",
    "    likes/views as ctr\n",
    "FROM simulator_20230120.feed_actions \n",
    "WHERE toDate(time) between '2023-01-01' and '2023-01-07'\n",
    "    and exp_group in (0,3)\n",
    "GROUP BY exp_group, user_id\n",
    "\"\"\"\n",
    "\n",
    "df_03 = pandahouse.read_clickhouse(q, connection=connection)"
   ]
  },
  {
   "cell_type": "code",
   "execution_count": 5,
   "id": "cd465a6e-90e6-468c-bdb2-9bd7d06e2d03",
   "metadata": {},
   "outputs": [
    {
     "name": "stdout",
     "output_type": "stream",
     "text": [
      " p-value = 1.055849414662529e-43\n"
     ]
    }
   ],
   "source": [
    "#T-тест на группах 0(контрольная) и 3(тестовая)\n",
    "\n",
    "t_test = stats.ttest_ind(df_03[df_03.exp_group == 0].ctr,\n",
    "                df_03[df_03.exp_group == 3].ctr,\n",
    "                equal_var=False)\n",
    "print(f' p-value = {t_test.pvalue}')"
   ]
  },
  {
   "cell_type": "code",
   "execution_count": 6,
   "id": "b714ab68-082c-4e2d-b125-714166c5c0f2",
   "metadata": {},
   "outputs": [],
   "source": [
    "global_CTR_03 = sum(df_03[df_03.exp_group == 0].likes)/sum(df_03[df_03.exp_group == 0].views)"
   ]
  },
  {
   "cell_type": "code",
   "execution_count": 7,
   "id": "4f3c2b9a-cff6-4f8c-b31f-bd9d78890916",
   "metadata": {},
   "outputs": [],
   "source": [
    "df_03['linearized_likes'] = df_03.apply(\n",
    "    lambda x: x['likes'] - x['views']*global_CTR_03, axis=1)"
   ]
  },
  {
   "cell_type": "code",
   "execution_count": null,
   "id": "2e645f29-b918-4f8f-bb7f-f57fd29660bc",
   "metadata": {},
   "outputs": [],
   "source": [
    "df_03"
   ]
  },
  {
   "cell_type": "code",
   "execution_count": 8,
   "id": "56eba0bd-a7d7-41a0-aaae-7b7c09a8d0c9",
   "metadata": {},
   "outputs": [
    {
     "name": "stdout",
     "output_type": "stream",
     "text": [
      " p-value = 5.491424947968532e-52\n"
     ]
    }
   ],
   "source": [
    "t_test_03 = stats.ttest_ind(df_03[df_03.exp_group == 0].linearized_likes,\n",
    "                df_03[df_03.exp_group == 3].linearized_likes,\n",
    "                equal_var=False)\n",
    "print(f' p-value = {t_test_03.pvalue}')"
   ]
  },
  {
   "cell_type": "markdown",
   "id": "0df08324-298c-4ecd-b93d-27cb50125f57",
   "metadata": {},
   "source": [
    "Оба т-теста показали значимое отличие.          \n",
    "p-value в линеарезированном тесте меньше"
   ]
  },
  {
   "cell_type": "markdown",
   "id": "2500f87b-fb2b-4732-9831-8208bdaba2aa",
   "metadata": {},
   "source": [
    "--------------"
   ]
  },
  {
   "cell_type": "code",
   "execution_count": 13,
   "id": "3f777e51-1bc6-4403-a799-68cc9934aa16",
   "metadata": {},
   "outputs": [],
   "source": [
    "# Запрос данных (пользователи, их просмотры и лайки из групп 1 и 2\n",
    "#  во временной интервал с 01.01.23 по 07.01.23 включительно)\n",
    "\n",
    "q = \"\"\"\n",
    "SELECT exp_group, \n",
    "    user_id,\n",
    "    sum(action = 'like') as likes,\n",
    "    sum(action = 'view') as views,\n",
    "    likes/views as ctr\n",
    "FROM simulator_20230120.feed_actions \n",
    "WHERE toDate(time) between '2023-01-01' and '2023-01-07'\n",
    "    and exp_group in (1,2)\n",
    "GROUP BY exp_group, user_id\n",
    "\"\"\"\n",
    "\n",
    "df_12 = pandahouse.read_clickhouse(q, connection=connection)"
   ]
  },
  {
   "cell_type": "code",
   "execution_count": 14,
   "id": "04414f82-581f-4c4c-a1d4-b6c2bf84c433",
   "metadata": {},
   "outputs": [
    {
     "name": "stdout",
     "output_type": "stream",
     "text": [
      " p-value = 0.4780623130874935\n"
     ]
    }
   ],
   "source": [
    "#T-тест на группах 1(контрольная) и 2(тестовая)\n",
    "\n",
    "t_test = stats.ttest_ind(df_12[df_12.exp_group == 1].ctr,\n",
    "                df_12[df_12.exp_group == 2].ctr,\n",
    "                equal_var=False)\n",
    "print(f' p-value = {t_test.pvalue}')"
   ]
  },
  {
   "cell_type": "code",
   "execution_count": 15,
   "id": "92d913d9-2a96-410f-a617-9af5cba42b13",
   "metadata": {},
   "outputs": [],
   "source": [
    "global_CTR_12 = sum(df_12[df_12.exp_group == 1].likes)/sum(df_12[df_12.exp_group == 1].views)"
   ]
  },
  {
   "cell_type": "code",
   "execution_count": 16,
   "id": "234f2e3a-4c6e-41a0-a9d1-93b61a61a165",
   "metadata": {},
   "outputs": [],
   "source": [
    "df_12['linearized_likes'] = df_12.apply(\n",
    "    lambda x: x['likes'] - x['views']*global_CTR_12, axis=1)"
   ]
  },
  {
   "cell_type": "code",
   "execution_count": 17,
   "id": "9a21079f-50ee-47f2-abe0-285ff11047aa",
   "metadata": {},
   "outputs": [
    {
     "name": "stdout",
     "output_type": "stream",
     "text": [
      " p-value = 9.439432187037712e-10\n"
     ]
    }
   ],
   "source": [
    "t_test_12 = stats.ttest_ind(df_12[df_12.exp_group == 1].linearized_likes,\n",
    "                df_12[df_12.exp_group == 2].linearized_likes,\n",
    "                equal_var=False)\n",
    "print(f' p-value = {t_test_12.pvalue}')"
   ]
  },
  {
   "cell_type": "markdown",
   "id": "f8262caa-9c2c-42f4-a2ce-fec6ce82c7b9",
   "metadata": {},
   "source": [
    "Т-тесты на пользовательзких CTR и линеаризованных CTR показали разные результаты\n"
   ]
  }
 ],
 "metadata": {
  "kernelspec": {
   "display_name": "Python 3 (ipykernel)",
   "language": "python",
   "name": "python3"
  },
  "language_info": {
   "codemirror_mode": {
    "name": "ipython",
    "version": 3
   },
   "file_extension": ".py",
   "mimetype": "text/x-python",
   "name": "python",
   "nbconvert_exporter": "python",
   "pygments_lexer": "ipython3",
   "version": "3.8.10"
  }
 },
 "nbformat": 4,
 "nbformat_minor": 5
}
