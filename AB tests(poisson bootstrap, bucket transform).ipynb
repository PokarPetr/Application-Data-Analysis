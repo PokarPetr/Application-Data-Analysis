{
 "cells": [
  {
   "cell_type": "markdown",
   "id": "22795e03-ad05-4221-bd16-3ac8fcdf4039",
   "metadata": {},
   "source": [
    "The experiment ran from 2023-01-01 to 2023-01-07 inclusive. For the experiment, 2 and 1 groups were involved.\n",
    "\n",
    "Group 2 used one of the new post recommendation algorithms, group 1 was used as a control.\n",
    "\n",
    "The main hypothesis is that the new algorithm in the 2nd group will lead to an increase in CTR.\n",
    "\n",
    "The task is to analyze the AB test data.\n",
    "\n",
    "1. Choose an analysis method and compare CTR in two groups (t-test, Poisson bootstrap, Mann-Whitney test, t-test on smoothed ctr (α=5) as well as t-test and Mann-Whitney test over bucket transform).\n",
    "2. Compare data with these tests. Look at the distributions with your eyes. Why did the tests work the way they did?\n",
    "3. Describe a potential situation where such a change could occur.\n",
    "4. Write a recommendation whether to roll out the new algorithm to all new users or not.\n",
    "\n",
    "Эксперимент проходил с 2023-01-01 по 2023-01-07 включительно. Для эксперимента были задействованы 2 и 1 группы.\n",
    "\n",
    "В группе 2 был использован один из новых алгоритмов рекомендации постов, группа 1 использовалась в качестве контроля. \n",
    "\n",
    "Основная гипотеза заключается в том, что новый алгоритм во 2-й группе приведет к увеличению CTR. \n",
    "\n",
    "\n",
    "Задача — проанализировать данные АB-теста. \n",
    "\n",
    "1. Выбрать метод анализа и сравнить CTR в двух группах (t-тест, Пуассоновский бутстреп, тест Манна-Уитни, t-тест на сглаженном ctr (α=5) а также t-тест и тест Манна-Уитни поверх бакетного преобразования).\n",
    "2. Сравнить данные этими тестами. Посмотрить на распределения глазами. Почему тесты сработали так как сработали? \n",
    "3. Описать потенциальную ситуацию, когда такое изменение могло произойти.\n",
    "4. Написать рекомендацию, раскатывать ли новый алгоритм на всех новых пользователей или нет."
   ]
  },
  {
   "cell_type": "code",
   "execution_count": 1,
   "id": "8d9bab40-6713-4ff1-bc17-968bf6bf60a8",
   "metadata": {},
   "outputs": [],
   "source": [
    "# Download libraries.  Запрос библиотек\n",
    "\n",
    "import pandahouse\n",
    "import pandas as pd\n",
    "import seaborn as sns\n",
    "import numpy as np\n",
    "\n",
    "from scipy import stats"
   ]
  },
  {
   "cell_type": "code",
   "execution_count": 2,
   "id": "2d4650f9-bd13-4abc-8b33-ef782f3eaaae",
   "metadata": {},
   "outputs": [],
   "source": [
    "# Create a connection. Создание соединения\n",
    "\n",
    "connection = {\n",
    "    'host': 'https://clickhouse.lab.karpov.courses',\n",
    "    'password': 'dpo_python_2020',\n",
    "    'user': 'student',\n",
    "    'database': 'simulator'\n",
    "}\n"
   ]
  },
  {
   "cell_type": "code",
   "execution_count": 3,
   "id": "5d8f7a39-e1d5-484a-a0aa-85e46147443b",
   "metadata": {},
   "outputs": [],
   "source": [
    "# Data request (users, their views and likes from groups 1 and 2\n",
    "# during the time interval from 01/01/23 to 01/07/23 inclusive).\n",
    "# Запрос данных (пользователи, их просмотры и лайки из групп 1 и 2\n",
    "#  во временной интервал с 01.01.23 по 07.01.23 включительно)\n",
    "\n",
    "q = \"\"\"\n",
    "\n",
    "SELECT exp_group, \n",
    "    user_id,\n",
    "    sum(action = 'like') as likes,\n",
    "    sum(action = 'view') as views,\n",
    "    likes/views as ctr\n",
    "FROM simulator_20230120.feed_actions \n",
    "WHERE toDate(time) between '2023-01-01' and '2023-01-07'\n",
    "    and exp_group in (1,2)\n",
    "GROUP BY exp_group, user_id\n",
    "\"\"\"\n",
    "\n",
    "df = pandahouse.read_clickhouse(q, connection=connection)"
   ]
  },
  {
   "cell_type": "code",
   "execution_count": 4,
   "id": "a837d4d3-251d-44de-8047-921bd2dd3ff3",
   "metadata": {},
   "outputs": [
    {
     "name": "stdout",
     "output_type": "stream",
     "text": [
      " p-value = 0.4780623130874935\n"
     ]
    }
   ],
   "source": [
    "#T-test on groups 1 (control) and 2 (test)\n",
    "#T-тест на группах 1(контрольная) и 2(тестовая)\n",
    "\n",
    "t_test = stats.ttest_ind(df[df.exp_group == 1].ctr,\n",
    "                df[df.exp_group == 2].ctr,\n",
    "                equal_var=False)\n",
    "print(f' p-value = {t_test.pvalue}')"
   ]
  },
  {
   "cell_type": "markdown",
   "id": "2c2a26dc-ee13-4709-8a2b-4c2a27f50450",
   "metadata": {},
   "source": [
    "T-test does not show difference in groups.   \n",
    "T-test не показывает различие в группах"
   ]
  },
  {
   "cell_type": "code",
   "execution_count": 5,
   "id": "fe26f6bd-b381-4ef1-8e9b-aaf5193c5b3e",
   "metadata": {},
   "outputs": [
    {
     "data": {
      "image/png": "[encoded data removed]",
      "text/plain": [
       "<Figure size 432x288 with 1 Axes>"
      ]
     },
     "metadata": {
      "needs_background": "light"
     },
     "output_type": "display_data"
    }
   ],
   "source": [
    "# We build the distribution of CTR by groups and evaluate it.\n",
    "# Строим распределение CTR по группам и оцениваем его \"наглаз\".\n",
    "\n",
    "groups = sns.histplot(data = df, \n",
    "              x='ctr', \n",
    "              hue='exp_group', \n",
    "              palette = ['r', 'b'],\n",
    "              alpha=0.5,\n",
    "              kde=False)"
   ]
  },
  {
   "cell_type": "markdown",
   "id": "2b8e6022-996b-4610-a109-cfbe7558385e",
   "metadata": {},
   "source": [
    "The histogram clearly shows the difference in the distribution of CTR in the two groups.                                     На гистограмме явно видно различие в расспределении CTR в двух группах"
   ]
  },
  {
   "cell_type": "markdown",
   "id": "f98faf76-f550-46b7-a88d-1f157ce04be2",
   "metadata": {},
   "source": [
    "Moreover, the second group has a distribution with two vertices.        \n",
    "Более того, у второй группы распределение с двумя вершинами"
   ]
  },
  {
   "cell_type": "code",
   "execution_count": 6,
   "id": "ec4ccaa2-cb94-4d16-8a2c-086952003ac5",
   "metadata": {},
   "outputs": [
    {
     "name": "stdout",
     "output_type": "stream",
     "text": [
      " p-value = 6.0376484617779035e-56\n"
     ]
    }
   ],
   "source": [
    "# Test Mann-Whitneyu\n",
    "\n",
    "mann = stats.mannwhitneyu(df[df.exp_group == 1].ctr, \n",
    "                   df[df.exp_group == 2].ctr,\n",
    "                   alternative = 'two-sided')\n",
    "print(f' p-value = {mann.pvalue}')\n"
   ]
  },
  {
   "cell_type": "markdown",
   "id": "4c188d4e-6967-42dc-ac6b-86a50fc2daf6",
   "metadata": {},
   "source": [
    "The Mann-Whitney test showed a significant difference.  \n",
    "Тест Манна-Витни \"покрасился\" и показал значимое различие"
   ]
  },
  {
   "cell_type": "markdown",
   "id": "ce41c747-5e25-4eff-904d-35defdd13e41",
   "metadata": {},
   "source": [
    "-------------------------------------------------------------"
   ]
  },
  {
   "cell_type": "code",
   "execution_count": 7,
   "id": "d8e29797-2129-4725-85b8-bc708a679b2a",
   "metadata": {},
   "outputs": [],
   "source": [
    "# Test on the smoothed CTR\n",
    "\n",
    "def get_smoothed_ctr(user_likes, user_views, global_ctr, alpha):\n",
    "    '''The function allows you to calculate the smoothed CTR.\n",
    "     When a user's CTR is close to zero, we replace it with the global CTR.\n",
    "     In other cases, the CTR remains almost unchanged.\n",
    "     This helps us get rid of the \"noise\" generated by users with low views. \n",
    "    Функция позволяет посчитать сглаженный CTR. \n",
    "    Когда у пользователя CTR близок к нулю, мы заменяем его на глобальный CTR.\n",
    "    В остальных случаях CTR остаётся почти неизменным.\n",
    "    Это помогает нам избавиться от \"шума\", который производят пользователи с малым количеством просмотров'''\n",
    "    smothed_ctr = (user_likes + alpha * global_ctr) / (user_views + alpha)\n",
    "    return smothed_ctr\n",
    "\n",
    "# Calculate the global CTR in both groups. Считаем глобальный CTR в двух группах\n",
    "global_ctr_1 = df[df.exp_group == 1].likes.sum()/df[df.exp_group == 1].views.sum()\n",
    "global_ctr_2 = df[df.exp_group == 2].likes.sum()/df[df.exp_group == 2].views.sum()"
   ]
  },
  {
   "cell_type": "code",
   "execution_count": 8,
   "id": "2b29196a-ca88-4889-a5af-d9f7891b77ca",
   "metadata": {},
   "outputs": [],
   "source": [
    "# We form databases of two groups with additional columns in which we prescribe a smoothed CTR for each user\n",
    "# Формируем базы данных двух групп с дополнительными колонками, в которых прописываем сглаженный CTR для каждого пользователя\n",
    "group1 = pd.DataFrame()\n",
    "group2 = pd.DataFrame()\n",
    "group1['smoothed_ctr'] = df.apply(lambda x: get_smoothed_ctr(x['likes'], x['views'], global_ctr_1, 5), axis=1)\n",
    "group2['smoothed_ctr'] = df.apply(lambda x: get_smoothed_ctr(x['likes'], x['views'], global_ctr_2, 5), axis=1)"
   ]
  },
  {
   "cell_type": "code",
   "execution_count": 9,
   "id": "b4e4cd77-928e-4ca1-9a51-8562ce49e934",
   "metadata": {},
   "outputs": [
    {
     "name": "stdout",
     "output_type": "stream",
     "text": [
      " p-value = 0.293394244281171\n"
     ]
    }
   ],
   "source": [
    "#Perform t-test on the smoothed data\n",
    "#Проводим t-test на сглаженных данных\n",
    "\n",
    "t_test_smoothed = stats.ttest_ind(group1.smoothed_ctr, group2.smoothed_ctr, equal_var=False)\n",
    "print(f' p-value = {t_test_smoothed.pvalue}')"
   ]
  },
  {
   "cell_type": "markdown",
   "id": "73c7dd2d-f7e0-4f8f-8388-a1f1cb2776da",
   "metadata": {},
   "source": [
    "T-test on smoothed data shows significant differences     \n",
    "T-test на сглаженных данных показывает значимые различия"
   ]
  },
  {
   "cell_type": "code",
   "execution_count": 10,
   "id": "805fc1aa-99e1-4855-8f0b-79e90f769bf4",
   "metadata": {},
   "outputs": [
    {
     "data": {
      "text/plain": [
       "<AxesSubplot:xlabel='smoothed_ctr', ylabel='Count'>"
      ]
     },
     "execution_count": 10,
     "metadata": {},
     "output_type": "execute_result"
    },
    {
     "data": {
      "image/png": "[encoded data removed]",
      "text/plain": [
       "<Figure size 432x288 with 1 Axes>"
      ]
     },
     "metadata": {
      "needs_background": "light"
     },
     "output_type": "display_data"
    }
   ],
   "source": [
    "# Plot the distributions of the smoothed CTR in two groups\n",
    "# Строим расспределения сглаженного CTR в двух группах\n",
    "\n",
    "sns.histplot(group1.smoothed_ctr, kde = False)\n",
    "sns.histplot(group2.smoothed_ctr, kde = False, fill = False)"
   ]
  },
  {
   "cell_type": "markdown",
   "id": "5dd1128d-8ef9-4116-bafe-9cd8a96ab871",
   "metadata": {},
   "source": [
    "--------------------"
   ]
  },
  {
   "cell_type": "markdown",
   "id": "0721121d-7ffd-44b3-8285-bce01ce39e25",
   "metadata": {},
   "source": [
    "# Since the main goal is to compare the total CTR of the two groups, not the CTR of each user, we run into the problem that the total CTR is a single number.\n",
    "\n",
    "Так как главной задачей является сравнение общего CTR в двух группах, а не CTR каждого пользователя, мы сталкиваемся с проблемой ,что общий CTR это одно число."
   ]
  },
  {
   "cell_type": "markdown",
   "id": "74c14b69-6e4f-478e-a392-3681df7c9950",
   "metadata": {},
   "source": [
    "# To get around this problem, we generate pseudo-samples from the groups using the Poisson bootstrap and Bucket transform methods.      \n",
    "Чтобы уйти от этой проблемы мы генериуем из групп псевдовыборки методами Пуассоновского бустрепа и Бакетным преобразованием"
   ]
  },
  {
   "cell_type": "code",
   "execution_count": 12,
   "id": "ad268a74-ef23-4fe9-a1fb-88c9ddafd909",
   "metadata": {},
   "outputs": [],
   "source": [
    "# Poisson bootstrap\n",
    "\n",
    "\n",
    "def bootstrap(likes1, views1, likes2, views2, n_bootstrap=2000):\n",
    "    '''The function receives as input arrays with the values of 'like' and 'view' for users in the control and test groups.\n",
    "     The function also receives the number of samples to be generated. Default is 2000 pcs.\n",
    "     Next, the function counts how many times the 'like' value of each user will fall into each of the (2000) samples.\n",
    "     Thus, samples are formed in each of the groups.\n",
    "     poisson_bootstraps is an array with the weights of each value in each of the samples.\n",
    "     At the output, the function returns two arrays of global CTR values for all samples in the control and test groups \n",
    "    \n",
    "    Функция принимает на вход массивы со значениями лайков и просмотров по пользователям в контрольной и тестовой группах.\n",
    "    Также функция принимает количество выборок, которые будут сгенерированны. По умолчанию это 2000 шт.\n",
    "    Далее функция считает сколько раз значение like каждого пользователя попадёт в каждую из (2000)выборок. \n",
    "    Таким образом происходит формирование выборок в каждой из групп.\n",
    "    poisson_bootstraps - массив с весами каждого значения в каждой из выборок.\n",
    "    На выходе функция возвращает два массива из значений глобальнх CTR по всем выборкам в контрольной и тестовой группах '''\n",
    "\n",
    "    poisson_bootstraps1 = stats.poisson(1).rvs(\n",
    "        (n_bootstrap, len(likes1))).astype(np.int64)\n",
    "\n",
    "    poisson_bootstraps2 = stats.poisson(1).rvs(\n",
    "            (n_bootstrap, len(likes2))).astype(np.int64)\n",
    "    \n",
    "    globalCTR1 = (poisson_bootstraps1*likes1).sum(axis=1)/(poisson_bootstraps1*views1).sum(axis=1)\n",
    "    \n",
    "    globalCTR2 = (poisson_bootstraps2*likes2).sum(axis=1)/(poisson_bootstraps2*views2).sum(axis=1)\n",
    "\n",
    "    return globalCTR1, globalCTR2"
   ]
  },
  {
   "cell_type": "code",
   "execution_count": 13,
   "id": "95a14841-fa72-496e-b0c5-c92b92391532",
   "metadata": {},
   "outputs": [],
   "source": [
    "#Generate arrays with likes and views data in the control and test groups\n",
    "#Формируем массивы с данными лайков и просмотров в контрольной и тестовой группах\n",
    "\n",
    "likes1 = df[df.exp_group == 1].likes.to_numpy() # Array with 'like' in the control group. Массив с лайками в контрольной группе\n",
    "views1 = df[df.exp_group == 1].views.to_numpy() # Array with 'view' in the control group. Массив с просмотрами в контрольной группе\n",
    "likes2 = df[df.exp_group == 2].likes.to_numpy() # Array with 'like' in the test group. Массив с лайками в тестовой группе\n",
    "views2 = df[df.exp_group == 2].views.to_numpy() # Array with 'view' in the test group. Массив с просмотрами в тестовой группе"
   ]
  },
  {
   "cell_type": "code",
   "execution_count": 14,
   "id": "347bdfa1-507c-4066-a9aa-3ade0c517f8b",
   "metadata": {},
   "outputs": [],
   "source": [
    "# Calculate the distribution of global CTR in the control and test groups, using pseudo-samples in them.\n",
    "# Считаем распределение глобальных CTR в контрольной и тестовой группах, используя псевдовыборки в них. \n",
    "ctr1, ctr2 = bootstrap(likes1, views1, likes2, views2)\n"
   ]
  },
  {
   "cell_type": "code",
   "execution_count": 15,
   "id": "fc38e267-a6d6-41cc-972e-b5b26914885e",
   "metadata": {},
   "outputs": [
    {
     "data": {
      "text/plain": [
       "<AxesSubplot:ylabel='Count'>"
      ]
     },
     "execution_count": 15,
     "metadata": {},
     "output_type": "execute_result"
    },
    {
     "data": {
      "image/png": "[encoded data removed]",
      "text/plain": [
       "<Figure size 1440x576 with 1 Axes>"
      ]
     },
     "metadata": {},
     "output_type": "display_data"
    }
   ],
   "source": [
    "# We build the distributions of global CTRs in the control and test groups according to their pseudo-samples\n",
    "# Строим распределения глобальных CTR в контрольной и тестовой группах по их псевдовыборкам\n",
    "sns.set(rc={'figure.figsize':(20,8)})\n",
    "sns.histplot(ctr1)\n",
    "sns.histplot(ctr2, fill = False)"
   ]
  },
  {
   "cell_type": "markdown",
   "id": "aba7c9e1-7057-47ca-abfa-bc4931871926",
   "metadata": {},
   "source": [
    "Graphs do not intersect, T-test should show p-value = 0.  \n",
    "Графики не пересекаются, Т-тест должен показать p-value = 0."
   ]
  },
  {
   "cell_type": "markdown",
   "id": "fc35f7e5-856d-49c6-b716-b6b5140123ed",
   "metadata": {},
   "source": [
    "At the same time, note that the test group shows a smaller global CTR  \n",
    "При этом заметим, что  тестовая группа показывает меньший глобальный CTR"
   ]
  },
  {
   "cell_type": "markdown",
   "id": "35580e84-2b6a-4fb7-bde7-d87582158b56",
   "metadata": {},
   "source": [
    "------------"
   ]
  },
  {
   "cell_type": "code",
   "execution_count": 16,
   "id": "4517acd4-1604-4623-a3d5-8edd3cc847a8",
   "metadata": {},
   "outputs": [
    {
     "name": "stdout",
     "output_type": "stream",
     "text": [
      " p-value = 0.0\n"
     ]
    }
   ],
   "source": [
    "t_test_gl = stats.ttest_ind(ctr1, ctr2, equal_var=False)\n",
    "print(f' p-value = {t_test_gl.pvalue}')"
   ]
  },
  {
   "cell_type": "code",
   "execution_count": 17,
   "id": "f8645a29-9d31-4d48-9f53-e2b5b96a7c7b",
   "metadata": {},
   "outputs": [
    {
     "data": {
      "text/plain": [
       "<AxesSubplot:ylabel='Count'>"
      ]
     },
     "execution_count": 17,
     "metadata": {},
     "output_type": "execute_result"
    },
    {
     "data": {
      "image/png": "[encoded data removed]",
      "text/plain": [
       "<Figure size 864x360 with 1 Axes>"
      ]
     },
     "metadata": {},
     "output_type": "display_data"
    }
   ],
   "source": [
    "#Plot the difference between global CTRs in groups\n",
    "#Потроим разницу между глобальными CTR в группах\n",
    "sns.set(rc={'figure.figsize':(12,5)})\n",
    "sns.histplot(ctr2 - ctr1, fill= False)"
   ]
  },
  {
   "cell_type": "markdown",
   "id": "07aa64ea-0f87-4d57-819d-73e730d612dd",
   "metadata": {},
   "source": [
    "The difference between global CTRs in the test and control groups is negative and does not cross 0.  \n",
    "Разница между глобальными CTR в тестовой и контрольной группе отрицательная, не пересекает 0."
   ]
  },
  {
   "cell_type": "markdown",
   "id": "7c60ac51-a135-4828-95c7-acdb0cf57b5c",
   "metadata": {},
   "source": [
    "We may state that the test group showed worse results than the control group.  \n",
    "Можно утверждать что тестовая группа показала худшие результаты чем контрольная"
   ]
  },
  {
   "cell_type": "markdown",
   "id": "3eedb622-0c87-4ab9-8f75-7a4dbe7654ca",
   "metadata": {},
   "source": [
    "-----------------------------------------------------------------------------------------------------"
   ]
  },
  {
   "cell_type": "code",
   "execution_count": 19,
   "id": "e7ecfc26-ea63-4b31-aca2-7ba29e9b8ce9",
   "metadata": {},
   "outputs": [],
   "source": [
    "# Request data for the bucket transform\n",
    "# Запрос данных для бакетного преобразования\n",
    "\n",
    "qb = \"\"\"\n",
    "SELECT exp_group, bucket,\n",
    "sum(likes)/sum(views) as bucket_ctr\n",
    "    FROM (SELECT exp_group, \n",
    "        xxHash64(user_id)%50 as bucket,\n",
    "        user_id,\n",
    "        sum(action = 'like') as likes,\n",
    "        sum(action = 'view') as views,\n",
    "        likes/views as ctr\n",
    "    FROM simulator_20230120.feed_actions \n",
    "    WHERE toDate(time) between '2023-01-01' and '2023-01-07' and exp_group in (1,2)\n",
    "    GROUP BY exp_group, bucket, user_id)\n",
    "GROUP BY exp_group, bucket\n",
    "\"\"\"\n",
    "\n",
    "df_b = pandahouse.read_clickhouse(qb, connection=connection)"
   ]
  },
  {
   "cell_type": "code",
   "execution_count": 20,
   "id": "7e22424a-a6ea-4782-b464-111d2fff063a",
   "metadata": {},
   "outputs": [
    {
     "name": "stdout",
     "output_type": "stream",
     "text": [
      " p-value = 3.4455951649945907e-07\n"
     ]
    }
   ],
   "source": [
    "# T-test over bucket transform of control and test groups\n",
    "# T-test поверх бакетного преобразования контрольной и тестовой групп\n",
    "t_test = stats.ttest_ind(df_b[df_b.exp_group == 1].bucket_ctr,\n",
    "                df_b[df_b.exp_group == 2].bucket_ctr,\n",
    "                equal_var=False)\n",
    "print(f' p-value = {t_test.pvalue}')"
   ]
  },
  {
   "cell_type": "code",
   "execution_count": 21,
   "id": "058e406c-817d-4069-bb35-5cc2e2345607",
   "metadata": {},
   "outputs": [
    {
     "name": "stdout",
     "output_type": "stream",
     "text": [
      " p-value = 2.859963936492646e-07\n"
     ]
    }
   ],
   "source": [
    "# Mann-Whitney U-test over control and test groups batch conversion\n",
    "# Mann-Whitneyu-test поверх бакетного преобразования контрольной и тестовой групп\n",
    "mann_test = stats.mannwhitneyu(df_b[df_b.exp_group == 1].bucket_ctr, \n",
    "                   df_b[df_b.exp_group == 2].bucket_ctr, \n",
    "                   alternative = 'two-sided')\n",
    "print(f' p-value = {mann_test.pvalue}')"
   ]
  },
  {
   "cell_type": "markdown",
   "id": "20616275-30d9-4f05-833f-65ceda805716",
   "metadata": {},
   "source": [
    "----------------------------------------------------------------------------------"
   ]
  },
  {
   "cell_type": "markdown",
   "id": "a2fe6085-c336-448a-9142-4e59a69078df",
   "metadata": {},
   "source": [
    "Initial tests on custom CTRs produced mixed results.\n",
    "The t-test on the raw data did not see a difference between the groups.\n",
    "The t-test on the smoothed CTR and the Mann-Whitneyu test saw significant differences between the groups.\n",
    "Looking at the distributions, one can see a clear difference in the groups. In the test group, the distribution is double-humped.\n",
    "The t-test on the raw data considers the difference in the mean and, apparently, the mean of the two-humped distribution accidentally coincided with the mean in the distribution of the control group."
   ]
  },
  {
   "cell_type": "markdown",
   "id": "b7ea6f8d-a201-426c-908c-24d987da75fd",
   "metadata": {},
   "source": [
    "The double-humped distribution in the control group could be due to the fact that the innovations were rolled out to a group with a certain number of interested users who actively liked with a small number of views.\n",
    "However, the main users did not really appreciate the innovations, which can be seen in the further study of the global CTR."
   ]
  },
  {
   "cell_type": "markdown",
   "id": "1ab404d7-8bbe-4247-a23e-8c747c6ea6d2",
   "metadata": {},
   "source": [
    "Global CTR research methods show the negative impact of innovations on the measured metric.\n",
    "In my opinion, you should not recommend introducing changes for the entire application."
   ]
  },
  {
   "cell_type": "markdown",
   "id": "4b25bd9a-25d0-4f04-8407-7ac3366649ae",
   "metadata": {},
   "source": [
    "Первоначальные тесты на пользовательских CTR давали разные результаты.          \n",
    "Т-тест на первичных данных не видел разниы в группах.         \n",
    "Т-тест на сглаженном CTR и тест Mann-Whitneyu видел значительные различия в группах.\n",
    "Посмотрев на распределения можно увидеть явное различие в группах. В тестовой группе распределение двугорбое.   \n",
    "Т-тест на первичных данных считает различие в среднем и, видимо, среднее двугорбого распределения случайно совпало со средним в распределении контрольной группы.       "
   ]
  },
  {
   "cell_type": "markdown",
   "id": "caa4e526-b149-4064-bf65-f8b52d3783b0",
   "metadata": {},
   "source": [
    "Двугорбое распределение в контрольной группе могло произойти из-за того, что нововедения выкатили на группу с некоторым количеством заинтересованных пользователей, которые активно лайкали при небольшом количестве просмотров.           \n",
    "Однако основные пользователи не слишком оценили нововедения, что можно увидеть на дальнейшем исследовании глобального CTR."
   ]
  },
  {
   "cell_type": "markdown",
   "id": "9deea001-59c5-4fa6-8ae4-1e004cf6eff1",
   "metadata": {},
   "source": [
    "Методы исследования глобального CTR показывают отрицательное влияние нововедений на измеряемую метрику.       \n",
    "На мой взгляд, не стоит рекомендовать вводить изменения для всего приложения\n"
   ]
  }
 ],
 "metadata": {
  "kernelspec": {
   "display_name": "Python 3 (ipykernel)",
   "language": "python",
   "name": "python3"
  },
  "language_info": {
   "codemirror_mode": {
    "name": "ipython",
    "version": 3
   },
   "file_extension": ".py",
   "mimetype": "text/x-python",
   "name": "python",
   "nbconvert_exporter": "python",
   "pygments_lexer": "ipython3",
   "version": "3.8.10"
  }
 },
 "nbformat": 4,
 "nbformat_minor": 5
}
