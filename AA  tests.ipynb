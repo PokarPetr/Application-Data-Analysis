{
 "cells": [
  {
   "cell_type": "markdown",
   "id": "f15c4b1a",
   "metadata": {},
   "source": [
    "There is AA test data from '2022-12-25' to '2022-12-31'. You need to make a simulation, as if 10,000 AA tests were carried out. At each iteration, it is necessary to form subsamples without repetition in 500 users from the 2nd and 3rd experimental groups. Compare these subsamples with a t-test\n",
    "\n",
    "1. Construct a histogram of the distribution of the resulting 10000 p-values.\n",
    "\n",
    "2. Calculate what percentage of p-values turned out to be less than or equal to 0.05\n",
    "\n",
    "3. Write a conclusion on the conducted AA test, whether the splitting system works correctly.\n",
    "\n",
    "Есть данные АА-теста с '2022-12-25' по '2022-12-31'. Hужно сделать симуляцию, как будто были проведены 10000 АА-тестов. На каждой итерации нужно сформировать подвыборки без повторения в 500 юзеров из 2 и 3 экспериментальной группы. Провести сравнение этих подвыборок t-testом\n",
    "\n",
    "1. Построить гистограмму распределения получившихся 10000 p-values.\n",
    "\n",
    "2. Посчитать, какой процент p-values оказался меньше либо равен 0.05\n",
    "\n",
    "3. Написать вывод по проведенному АА-тесту, корректно ли работает система сплитования."
   ]
  },
  {
   "cell_type": "code",
   "execution_count": 1,
   "id": "d03d0518",
   "metadata": {},
   "outputs": [],
   "source": [
    "# Libraries Request   Запрос библиотек\n",
    "import pandahouse\n",
    "import pandas as pd\n",
    "import seaborn as sns\n",
    "import numpy as np\n",
    "\n",
    "from scipy import stats"
   ]
  },
  {
   "cell_type": "code",
   "execution_count": 2,
   "id": "cfc9a2bc",
   "metadata": {},
   "outputs": [],
   "source": [
    "# Create a connection  Создание соединения\n",
    "\n",
    "connection = {\n",
    "    'host': 'https://clickhouse.lab.karpov.courses',\n",
    "    'password': 'dpo_python_2020',\n",
    "    'user': 'student',\n",
    "    'database': 'simulator'\n",
    "}"
   ]
  },
  {
   "cell_type": "code",
   "execution_count": 3,
   "id": "ebf44078",
   "metadata": {},
   "outputs": [],
   "source": [
    "# Data request (users, their views and likes from groups 2 and 3\n",
    "# during the time interval from 12/25/22 to 12/31/22)\n",
    "# Запрос данных (пользователи, их просмотры и лайки из групп 2 и 3\n",
    "#  во временной интервал с 25.12.22 по 31.12.22)\n",
    "\n",
    "q = \"\"\"\n",
    "SELECT  \n",
    "    user_id,\n",
    "    sum(action = 'like') as likes,\n",
    "    sum(action = 'view') as views,\n",
    "    likes/views as ctr,\n",
    "    exp_group\n",
    "    \n",
    "FROM simulator_20230120.feed_actions\n",
    "\n",
    "WHERE toDate(time) >= '2022-12-25' and toDate(time) <= '2022-12-31' \n",
    "    and exp_group in (2,3)\n",
    "    \n",
    "GROUP BY exp_group, user_id\n",
    "\"\"\"\n",
    "\n",
    "df = pandahouse.read_clickhouse(q, connection=connection)"
   ]
  },
  {
   "cell_type": "code",
   "execution_count": 4,
   "id": "4a6791fd",
   "metadata": {},
   "outputs": [
    {
     "data": {
      "text/html": [
       "<div>\n",
       "<style scoped>\n",
       "    .dataframe tbody tr th:only-of-type {\n",
       "        vertical-align: middle;\n",
       "    }\n",
       "\n",
       "    .dataframe tbody tr th {\n",
       "        vertical-align: top;\n",
       "    }\n",
       "\n",
       "    .dataframe thead th {\n",
       "        text-align: right;\n",
       "    }\n",
       "</style>\n",
       "<table border=\"1\" class=\"dataframe\">\n",
       "  <thead>\n",
       "    <tr style=\"text-align: right;\">\n",
       "      <th></th>\n",
       "      <th>user_id</th>\n",
       "      <th>likes</th>\n",
       "      <th>views</th>\n",
       "      <th>ctr</th>\n",
       "    </tr>\n",
       "    <tr>\n",
       "      <th>exp_group</th>\n",
       "      <th></th>\n",
       "      <th></th>\n",
       "      <th></th>\n",
       "      <th></th>\n",
       "    </tr>\n",
       "  </thead>\n",
       "  <tbody>\n",
       "    <tr>\n",
       "      <th>2</th>\n",
       "      <td>8480</td>\n",
       "      <td>8480</td>\n",
       "      <td>8480</td>\n",
       "      <td>8480</td>\n",
       "    </tr>\n",
       "    <tr>\n",
       "      <th>3</th>\n",
       "      <td>8569</td>\n",
       "      <td>8569</td>\n",
       "      <td>8569</td>\n",
       "      <td>8569</td>\n",
       "    </tr>\n",
       "  </tbody>\n",
       "</table>\n",
       "</div>"
      ],
      "text/plain": [
       "           user_id  likes  views   ctr\n",
       "exp_group                             \n",
       "2             8480   8480   8480  8480\n",
       "3             8569   8569   8569  8569"
      ]
     },
     "execution_count": 4,
     "metadata": {},
     "output_type": "execute_result"
    }
   ],
   "source": [
    "# We look at the number of users in groups. We need about the same\n",
    "# Смотрим количество пользователей в группах. Нам нужно примерно одинаковое\n",
    "\n",
    "df.groupby('exp_group').count()"
   ]
  },
  {
   "cell_type": "code",
   "execution_count": 7,
   "id": "5c4862bf",
   "metadata": {},
   "outputs": [
    {
     "data": {
      "text/plain": [
       "<AxesSubplot:xlabel='ctr', ylabel='Count'>"
      ]
     },
     "execution_count": 7,
     "metadata": {},
     "output_type": "execute_result"
    },
    {
     "data": {
      "image/png": "[encoded data removed]",
      "text/plain": [
       "<Figure size 864x576 with 1 Axes>"
      ]
     },
     "metadata": {},
     "output_type": "display_data"
    }
   ],
   "source": [
    "# Visual view of groups in Seaborn\n",
    "# Визуальный просмотр групп в Seaborn\n",
    "\n",
    "\n",
    "sns.set(rc={'figure.figsize':(12,8)})\n",
    "\n",
    "sns.histplot(data = df, \n",
    "              x='ctr', \n",
    "              hue='exp_group', \n",
    "              palette = 'bright',\n",
    "              alpha=0.5,\n",
    "              kde=False)"
   ]
  },
  {
   "cell_type": "markdown",
   "id": "1d0ecbe0",
   "metadata": {},
   "source": [
    "In appearance, CTR in groups is distributed equally.   \n",
    "На вид CTR в группах распределён одинаково."
   ]
  },
  {
   "cell_type": "code",
   "execution_count": 8,
   "id": "3903fce7",
   "metadata": {},
   "outputs": [],
   "source": [
    "''' Preparing to simulate 10,000 AA tests.\n",
    "At each iteration, we will form subsamples without repetition of 500 users from the 2nd and 3rd experimental groups.\n",
    "\n",
    "Подготовка к симуляции 10000 АА-тестов. \n",
    "На каждой итерации будем формировать подвыборки без повторения в 500 юзеров из 2 и 3 экспериментальной группы. \n",
    "'''\n",
    "\n",
    "num_AA = 10000                    # Number of AA tests.             Количество АА тестов\n",
    "sample_number = 500               # Number of users in each sample. Количество пользователей в каждой выборке\n",
    "df_2 = df[df.exp_group == 2].ctr  # Column with CTR in the whole group 2. Колонка с CTR во всей группе 2\n",
    "df_3 = df[df.exp_group == 3].ctr  # Column with CTR in the whole group 3. Колонка с CTR во всей группе 3\n",
    "p_value_list = np.zeros(num_AA)   # List of p-values, initially filled with zeros.\n",
    "                                  #Список под значения p-values, изначально заполненный нулями"
   ]
  },
  {
   "cell_type": "code",
   "execution_count": 9,
   "id": "708bbc32",
   "metadata": {},
   "outputs": [],
   "source": [
    "# List Comprehension to record all p_values in 10000 experiments, in a pre-prepared list\n",
    "#List Comprhention для записи всех значений p_value в 10000 экспериментах, в заранее подготовленный список\n",
    "\n",
    "p_value_list = [stats.ttest_ind(df_2.sample(sample_number),df_3.sample(sample_number),equal_var=False).pvalue \\\n",
    "                for _ in range(num_AA)]\n"
   ]
  },
  {
   "cell_type": "code",
   "execution_count": 10,
   "id": "1b1dea5c",
   "metadata": {},
   "outputs": [
    {
     "name": "stdout",
     "output_type": "stream",
     "text": [
      " The percentage of p-values less than 0.05 is 4.53\n"
     ]
    }
   ],
   "source": [
    "'''# Select p-values that are less than the selected threshold of 5%\n",
    "and calculate the proportion of these values to the total number of tests.\n",
    "# Выбор значений p-value, которые меньше выбранного порога в 5% \n",
    "и вычисление доли этих значений к общему числу тестов.'''\n",
    "\n",
    "p_value_less_005 = [x for x in p_value_list if x <= 0.05]  # Form a list of values less than 0.05\n",
    "                                                           # Формируем список из значений меньше 0,05\n",
    "ratio_p_value_less005 = len(p_value_less_005) / num_AA # Calculate the proportion of p-values that are less than 0.05\n",
    "                                                       # Вычисляем долю значений p-value, которые меньше 0,05\n",
    "\n",
    "print(f' The percentage of p-values less than 0.05 is {ratio_p_value_less005*100}')"
   ]
  },
  {
   "cell_type": "code",
   "execution_count": 11,
   "id": "3a1f5862",
   "metadata": {},
   "outputs": [],
   "source": [
    "# Preparation for building a histogram of the distribution of p-values\n",
    "# Подготовка для построении гистограммы распределения значений p-value\n",
    "\n",
    "\n",
    "df_p_value = pd.DataFrame(p_value_list,columns={'p_value'}) # Form pandas DataFrame from p_value_list\n",
    "                                                            # Формируем pandas DataFrame из списка p_value_list\n"
   ]
  },
  {
   "cell_type": "code",
   "execution_count": 12,
   "id": "20e71d6e",
   "metadata": {},
   "outputs": [
    {
     "data": {
      "text/plain": [
       "<AxesSubplot:xlabel='p_value', ylabel='Count'>"
      ]
     },
     "execution_count": 12,
     "metadata": {},
     "output_type": "execute_result"
    },
    {
     "data": {
      "image/png": "[encoded data removed]",
      "text/plain": [
       "<Figure size 1080x360 with 1 Axes>"
      ]
     },
     "metadata": {},
     "output_type": "display_data"
    }
   ],
   "source": [
    "# Building a histogram in Seaborn\n",
    "# Строим гистограмму в Seaborn\n",
    "\n",
    "sns.set(rc={'figure.figsize':(15,5)})\n",
    "sns.histplot(x = df_p_value.p_value, bins = 20)# Take bins = 20 to see how many p-values are less than 0.05\n",
    "                                               # Берём bins = 20, чтобы видеть количество p-value меньше 0,05"
   ]
  },
  {
   "cell_type": "markdown",
   "id": "5b2f2215",
   "metadata": {},
   "source": [
    "The distribution of p-values seems to be uniform\n",
    "\n",
    "The number of p-values less than 0.05 does not exceed 5%\n",
    "\n",
    "This allows us to conclude that splitting works correctly and is suitable for conducting AV tests.\n",
    "\n",
    "Распределение значений p-value похоже на равномерное\n",
    "\n",
    "Количество значений p-value меньших 0.05 не превышает 5 %\n",
    "\n",
    "Это позволяет сделать вывод - сплитование работает корректно и подходит для проведения АВ тестов"
   ]
  }
 ],
 "metadata": {
  "kernelspec": {
   "display_name": "Python 3 (ipykernel)",
   "language": "python",
   "name": "python3"
  },
  "language_info": {
   "codemirror_mode": {
    "name": "ipython",
    "version": 3
   },
   "file_extension": ".py",
   "mimetype": "text/x-python",
   "name": "python",
   "nbconvert_exporter": "python",
   "pygments_lexer": "ipython3",
   "version": "3.9.7"
  }
 },
 "nbformat": 4,
 "nbformat_minor": 5
}
